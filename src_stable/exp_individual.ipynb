{
 "cells": [
  {
   "cell_type": "code",
   "execution_count": 1,
   "metadata": {},
   "outputs": [
    {
     "name": "stderr",
     "output_type": "stream",
     "text": [
      "Intel(R) Extension for Scikit-learn* enabled (https://github.com/intel/scikit-learn-intelex)\n",
      "Intel(R) Extension for Scikit-learn* enabled (https://github.com/intel/scikit-learn-intelex)\n"
     ]
    }
   ],
   "source": [
    "%load_ext autoreload\n",
    "%autoreload 2\n",
    "from typing import Callable, List, Tuple\n",
    "from utils import EarlyStopper, gpu2numpy\n",
    "import torch.nn.init\n",
    "from functools import lru_cache\n",
    "import tqdm\n",
    "import torch.optim as optim\n",
    "import torch.nn.functional as F\n",
    "import torch.nn as nn\n",
    "import torch\n",
    "import numpy as np\n",
    "import sklearn.metrics as metrics\n",
    "from sklearnex import patch_sklearn\n",
    "patch_sklearn()\n",
    "import math\n",
    "from individual import Individual"
   ]
  },
  {
   "cell_type": "code",
   "execution_count": 2,
   "metadata": {},
   "outputs": [],
   "source": [
    "torch.backends.cudnn.enable =True\n",
    "torch.backends.cudnn.benchmark = True\n",
    "from datasets import NParity\n",
    "from utils import dataset2numpy, numpy2gpu\n",
    "from sklearn.model_selection import train_test_split\n",
    "N = 8\n",
    "dataset = NParity(N) # XOR 问题\n",
    "X, Y = dataset2numpy(dataset)\n",
    "# X_train, X_val, y_train, y_val = train_test_split(X, Y, test_size=0.2)\n",
    "X_train, X_val, y_train, y_val = X, X, Y, Y\n",
    "device = torch.device('cuda:0' if torch.cuda.is_available() else 'cpu')\n",
    "X_train, X_val, y_train, y_val = numpy2gpu(X_train, X_val, y_train, y_val, device=device)"
   ]
  },
  {
   "cell_type": "code",
   "execution_count": 37,
   "metadata": {},
   "outputs": [
    {
     "name": "stderr",
     "output_type": "stream",
     "text": [
      "fit_bp: 100%|\u001b[33m██████████\u001b[0m| 10000/10000 [02:02<00:00, 81.46it/s, trian_loss=0.17, val_fitness=-.17] \n"
     ]
    },
    {
     "data": {
      "text/plain": [
       "True"
      ]
     },
     "execution_count": 37,
     "metadata": {},
     "output_type": "execute_result"
    }
   ],
   "source": [
    "indi = Individual(N, 1, 3, 3, connection_density=1)\n",
    "indi = indi.to(device)\n",
    "success, val_losses = indi.fit_bp(X_train, y_train, X_val, y_val, epochs=10000, \n",
    "                                  criterion=F.binary_cross_entropy, \n",
    "                                  optimizer=optim.AdamW(indi.parameters(), lr=0.1, \n",
    "                                                        weight_decay=0.001))\n",
    "success"
   ]
  },
  {
   "cell_type": "code",
   "execution_count": 38,
   "metadata": {},
   "outputs": [
    {
     "data": {
      "text/plain": [
       "array([-1.01931214, -0.8152889 , -0.78240538, ..., -0.17033766,\n",
       "       -0.17033748, -0.17033729])"
      ]
     },
     "execution_count": 38,
     "metadata": {},
     "output_type": "execute_result"
    }
   ],
   "source": [
    "val_losses"
   ]
  },
  {
   "cell_type": "code",
   "execution_count": 26,
   "metadata": {},
   "outputs": [
    {
     "name": "stderr",
     "output_type": "stream",
     "text": [
      "fit_bp: 100%|\u001b[33m██████████\u001b[0m| 10000/10000 [02:21<00:00, 70.58it/s, trian_loss=4.49e-6, val_fitness=-4.49e-6]\n"
     ]
    },
    {
     "data": {
      "text/plain": [
       "True"
      ]
     },
     "execution_count": 26,
     "metadata": {},
     "output_type": "execute_result"
    }
   ],
   "source": [
    "from losses import prechelt_mse_loss\n",
    "indi2 = Individual(N, 1, 3, 3, connection_density=1)\n",
    "indi2 = indi2.to(device)\n",
    "success2, val_losses2 = indi2.fit_bp(X_train, y_train, X_val, y_val, epochs=10000, \n",
    "                                  criterion=prechelt_mse_loss, \n",
    "                                  optimizer=optim.Adam(indi2.parameters(), lr=0.1))\n",
    "success2"
   ]
  },
  {
   "cell_type": "code",
   "execution_count": 39,
   "metadata": {},
   "outputs": [
    {
     "data": {
      "image/png": "[encoded data removed]",
      "text/plain": [
       "<Figure size 640x480 with 1 Axes>"
      ]
     },
     "metadata": {},
     "output_type": "display_data"
    }
   ],
   "source": [
    "from matplotlib import pyplot as plt\n",
    "start = 1\n",
    "end = 1000\n",
    "plt.plot(val_losses[start:end], label=\"binary_cross_entropy_with_weight_decay\")\n",
    "plt.plot(val_losses2[start:end], label=\"prechelt_mse_loss\")\n",
    "plt.legend()\n",
    "plt.savefig(\"fig/loss_compare2.png\")"
   ]
  },
  {
   "cell_type": "code",
   "execution_count": 40,
   "metadata": {},
   "outputs": [],
   "source": [
    "indi.savefig(\"fig/loss_compare-binary_cross_entropy_with_weight_decay-8.dot\")\n",
    "# indi2.savefig(\"fig/loss_compare-prechelt_mse_loss-8.dot\")"
   ]
  },
  {
   "cell_type": "code",
   "execution_count": 12,
   "metadata": {},
   "outputs": [
    {
     "data": {
      "text/plain": [
       "tensor([[1, 1, 0, 0],\n",
       "        [1, 1, 1, 1],\n",
       "        [1, 1, 1, 1],\n",
       "        [0, 1, 1, 1],\n",
       "        [1, 1, 0, 1],\n",
       "        [0, 1, 1, 1],\n",
       "        [1, 0, 1, 0],\n",
       "        [1, 0, 1, 1],\n",
       "        [0, 1, 1, 1],\n",
       "        [0, 0, 1, 1],\n",
       "        [0, 0, 0, 0],\n",
       "        [0, 0, 0, 0]], device='cuda:0', dtype=torch.int8)"
      ]
     },
     "execution_count": 12,
     "metadata": {},
     "output_type": "execute_result"
    }
   ],
   "source": [
    "indi.real_connectivity()"
   ]
  },
  {
   "cell_type": "code",
   "execution_count": 46,
   "metadata": {},
   "outputs": [
    {
     "data": {
      "text/plain": [
       "(0.5, -0.5, -4.485188583203126e-06)"
      ]
     },
     "execution_count": 46,
     "metadata": {},
     "output_type": "execute_result"
    }
   ],
   "source": [
    "# indi.fitness_sklearn(X_train, y_train, metrics.accuracy_score, False)\n",
    "indi2.fitness_sklearn(X_train, y_train, metrics.accuracy_score, False),\\\n",
    "indi2.fitness_torch(X_train, y_train, F.mse_loss),\\\n",
    "indi2.fitness_torch(X_train, y_train, prechelt_mse_loss)"
   ]
  },
  {
   "cell_type": "code",
   "execution_count": 47,
   "metadata": {},
   "outputs": [
    {
     "data": {
      "text/plain": [
       "array([[8.97160604e-08],\n",
       "       [4.48415065e-08],\n",
       "       [2.18589236e-08],\n",
       "       [1.09595799e-08],\n",
       "       [8.20733135e-08],\n",
       "       [4.33818705e-08],\n",
       "       [2.43623788e-08],\n",
       "       [1.26505402e-08],\n",
       "       [2.23242616e-08],\n",
       "       [9.30029742e-09],\n",
       "       [5.33136868e-09],\n",
       "       [2.30561481e-09],\n",
       "       [1.96814476e-08],\n",
       "       [9.18742415e-09],\n",
       "       [5.42549872e-09],\n",
       "       [2.50196242e-09],\n",
       "       [2.62249049e-08],\n",
       "       [1.35653977e-08],\n",
       "       [6.35019282e-09],\n",
       "       [3.29334982e-09],\n",
       "       [2.71490297e-08],\n",
       "       [1.47170409e-08],\n",
       "       [7.56329577e-09],\n",
       "       [3.98680866e-09],\n",
       "       [4.76389195e-09],\n",
       "       [2.30413333e-09],\n",
       "       [1.21417898e-09],\n",
       "       [6.00528183e-10],\n",
       "       [5.18484367e-09],\n",
       "       [2.65040279e-09],\n",
       "       [1.37043932e-09],\n",
       "       [6.87508994e-10],\n",
       "       [3.58364431e-08],\n",
       "       [1.85352640e-08],\n",
       "       [9.28480759e-09],\n",
       "       [4.87127672e-09],\n",
       "       [4.08370688e-08],\n",
       "       [2.17524097e-08],\n",
       "       [1.10784715e-08],\n",
       "       [5.78311843e-09],\n",
       "       [6.54523724e-09],\n",
       "       [3.23705107e-09],\n",
       "       [1.81993343e-09],\n",
       "       [9.18591259e-10],\n",
       "       [7.53418306e-09],\n",
       "       [3.82541288e-09],\n",
       "       [1.91104998e-09],\n",
       "       [9.62500968e-10],\n",
       "       [1.10194014e-08],\n",
       "       [5.77871928e-09],\n",
       "       [2.92588798e-09],\n",
       "       [1.55521740e-09],\n",
       "       [1.34957681e-08],\n",
       "       [7.23850802e-09],\n",
       "       [3.43591955e-09],\n",
       "       [1.79802384e-09],\n",
       "       [1.87022686e-09],\n",
       "       [9.71505321e-10],\n",
       "       [5.40027356e-10],\n",
       "       [2.84585300e-10],\n",
       "       [2.25398011e-09],\n",
       "       [1.17408283e-09],\n",
       "       [5.57176083e-10],\n",
       "       [2.88046476e-10],\n",
       "       [1.39474281e-08],\n",
       "       [6.94794089e-09],\n",
       "       [3.86928045e-09],\n",
       "       [1.94851535e-09],\n",
       "       [1.76586301e-08],\n",
       "       [9.05042175e-09],\n",
       "       [3.77080633e-09],\n",
       "       [1.89889615e-09],\n",
       "       [4.63260941e-09],\n",
       "       [1.81122395e-09],\n",
       "       [1.39144196e-09],\n",
       "       [5.50815060e-10],\n",
       "       [3.94029298e-09],\n",
       "       [1.66867009e-09],\n",
       "       [8.77042605e-10],\n",
       "       [3.83429372e-10],\n",
       "       [4.25378976e-09],\n",
       "       [2.26655139e-09],\n",
       "       [1.15932486e-09],\n",
       "       [6.14851392e-10],\n",
       "       [6.04041439e-09],\n",
       "       [3.25103522e-09],\n",
       "       [1.12153209e-09],\n",
       "       [5.84703452e-10],\n",
       "       [9.14645359e-10],\n",
       "       [4.40142534e-10],\n",
       "       [2.75070355e-10],\n",
       "       [1.32270014e-10],\n",
       "       [9.06223263e-10],\n",
       "       [4.45708109e-10],\n",
       "       [2.04794251e-10],\n",
       "       [1.01843131e-10],\n",
       "       [6.06473805e-09],\n",
       "       [3.22388982e-09],\n",
       "       [1.85174787e-09],\n",
       "       [9.84991533e-10],\n",
       "       [6.63459065e-09],\n",
       "       [3.46981643e-09],\n",
       "       [1.57520130e-09],\n",
       "       [8.27019564e-10],\n",
       "       [1.35751221e-09],\n",
       "       [6.62845223e-10],\n",
       "       [4.35659092e-10],\n",
       "       [2.12525053e-10],\n",
       "       [1.13181042e-09],\n",
       "       [5.63462221e-10],\n",
       "       [3.00630132e-10],\n",
       "       [1.52311844e-10],\n",
       "       [2.05260120e-09],\n",
       "       [1.12531617e-09],\n",
       "       [6.08567363e-10],\n",
       "       [3.29923283e-10],\n",
       "       [2.21651431e-09],\n",
       "       [1.18742427e-09],\n",
       "       [5.02037689e-10],\n",
       "       [2.67711048e-10],\n",
       "       [3.92186839e-10],\n",
       "       [2.07309503e-10],\n",
       "       [1.23469943e-10],\n",
       "       [6.47808820e-11],\n",
       "       [3.35745820e-10],\n",
       "       [1.76185427e-10],\n",
       "       [9.02021929e-11],\n",
       "       [4.76722273e-11],\n",
       "       [2.14519229e-08],\n",
       "       [9.19405085e-09],\n",
       "       [5.64011993e-09],\n",
       "       [2.49398657e-09],\n",
       "       [2.25888321e-08],\n",
       "       [1.04974527e-08],\n",
       "       [5.33600808e-09],\n",
       "       [2.46384491e-09],\n",
       "       [1.63196994e-08],\n",
       "       [4.48174520e-09],\n",
       "       [4.58367122e-09],\n",
       "       [1.30138722e-09],\n",
       "       [1.10126557e-08],\n",
       "       [3.43077233e-09],\n",
       "       [2.27788011e-09],\n",
       "       [7.44951434e-10],\n",
       "       [4.89746466e-09],\n",
       "       [2.42376896e-09],\n",
       "       [1.34393530e-09],\n",
       "       [6.74780010e-10],\n",
       "       [6.11342355e-09],\n",
       "       [3.12877457e-09],\n",
       "       [1.35607081e-09],\n",
       "       [6.81125156e-10],\n",
       "       [1.61902791e-09],\n",
       "       [6.29070906e-10],\n",
       "       [4.80125273e-10],\n",
       "       [1.89699118e-10],\n",
       "       [1.41919976e-09],\n",
       "       [5.97974725e-10],\n",
       "       [3.15896503e-10],\n",
       "       [1.37138523e-10],\n",
       "       [6.98099090e-09],\n",
       "       [3.51723228e-09],\n",
       "       [2.10320161e-09],\n",
       "       [1.07088394e-09],\n",
       "       [7.78245202e-09],\n",
       "       [3.93520105e-09],\n",
       "       [1.87109728e-09],\n",
       "       [9.51463464e-10],\n",
       "       [2.24394681e-09],\n",
       "       [9.14087250e-10],\n",
       "       [7.14701298e-10],\n",
       "       [2.92898011e-10],\n",
       "       [1.72244408e-09],\n",
       "       [7.54984408e-10],\n",
       "       [4.26936181e-10],\n",
       "       [1.93440597e-10],\n",
       "       [2.09240247e-09],\n",
       "       [1.10707976e-09],\n",
       "       [6.36902753e-10],\n",
       "       [3.38237771e-10],\n",
       "       [2.35354314e-09],\n",
       "       [1.22734845e-09],\n",
       "       [5.58965374e-10],\n",
       "       [2.92414037e-10],\n",
       "       [4.66673311e-10],\n",
       "       [2.27211652e-10],\n",
       "       [1.49423987e-10],\n",
       "       [7.28428845e-11],\n",
       "       [4.03887507e-10],\n",
       "       [2.00059733e-10],\n",
       "       [1.05542373e-10],\n",
       "       [5.32851679e-11],\n",
       "       [6.08178929e-09],\n",
       "       [2.43182141e-09],\n",
       "       [1.77359183e-09],\n",
       "       [7.02657932e-10],\n",
       "       [4.27639701e-09],\n",
       "       [1.87662308e-09],\n",
       "       [9.36474787e-10],\n",
       "       [4.20522422e-10],\n",
       "       [9.77237224e-09],\n",
       "       [2.34784903e-09],\n",
       "       [2.93413160e-09],\n",
       "       [7.11842973e-10],\n",
       "       [2.81633894e-09],\n",
       "       [7.83363430e-10],\n",
       "       [6.90797697e-10],\n",
       "       [2.01098055e-10],\n",
       "       [1.37846912e-09],\n",
       "       [6.96678049e-10],\n",
       "       [3.61813246e-10],\n",
       "       [1.76238524e-10],\n",
       "       [1.15872356e-09],\n",
       "       [6.00267114e-10],\n",
       "       [2.35518549e-10],\n",
       "       [1.20196617e-10],\n",
       "       [7.66177843e-10],\n",
       "       [2.56163535e-10],\n",
       "       [2.16679549e-10],\n",
       "       [7.13650736e-11],\n",
       "       [3.10847764e-10],\n",
       "       [1.24617178e-10],\n",
       "       [7.76482975e-11],\n",
       "       [3.14620968e-11],\n",
       "       [1.81887494e-09],\n",
       "       [9.07669495e-10],\n",
       "       [5.54087887e-10],\n",
       "       [2.71277778e-10],\n",
       "       [1.29156508e-09],\n",
       "       [6.64785005e-10],\n",
       "       [3.50981882e-10],\n",
       "       [1.80346682e-10],\n",
       "       [9.42272815e-10],\n",
       "       [3.27113642e-10],\n",
       "       [3.02075143e-10],\n",
       "       [1.03360542e-10],\n",
       "       [3.76287224e-10],\n",
       "       [1.57171914e-10],\n",
       "       [1.12496595e-10],\n",
       "       [4.71217752e-11],\n",
       "       [6.00688554e-10],\n",
       "       [3.34781508e-10],\n",
       "       [1.62847319e-10],\n",
       "       [8.68174560e-11],\n",
       "       [4.41875342e-10],\n",
       "       [2.44559789e-10],\n",
       "       [1.10618431e-10],\n",
       "       [5.96009145e-11],\n",
       "       [1.58212596e-10],\n",
       "       [7.31793307e-11],\n",
       "       [4.65982912e-11],\n",
       "       [2.09376978e-11],\n",
       "       [8.64143479e-11],\n",
       "       [4.34467254e-11],\n",
       "       [2.48085146e-11],\n",
       "       [1.22877845e-11]], dtype=float32)"
      ]
     },
     "execution_count": 47,
     "metadata": {},
     "output_type": "execute_result"
    }
   ],
   "source": [
    "indi2(X_train).cpu().detach().numpy()"
   ]
  },
  {
   "cell_type": "code",
   "execution_count": null,
   "metadata": {},
   "outputs": [],
   "source": []
  },
  {
   "cell_type": "code",
   "execution_count": 45,
   "metadata": {},
   "outputs": [
    {
     "data": {
      "text/plain": [
       "[Parameter containing:\n",
       " tensor([[True, True, True, True],\n",
       "         [True, True, True, True],\n",
       "         [True, True, True, True],\n",
       "         [True, True, True, True],\n",
       "         [True, True, True, True],\n",
       "         [True, True, True, True],\n",
       "         [True, True, True, True],\n",
       "         [True, True, True, True],\n",
       "         [True, True, True, True],\n",
       "         [True, True, True, True],\n",
       "         [True, True, True, True],\n",
       "         [True, True, True, True]], device='cuda:0'),\n",
       " Parameter containing:\n",
       " tensor([1, 1, 1, 1], device='cuda:0', dtype=torch.int8),\n",
       " Parameter containing:\n",
       " tensor([[ -5.2308,  -3.5667,  -8.6815,  -1.9350],\n",
       "         [ -5.3182,  -3.5889,  -8.7049,  -1.9349],\n",
       "         [ -5.2191,  -3.5637,  -8.6782,  -1.9350],\n",
       "         [ -5.1425,  -3.5457,  -8.6591,  -1.9350],\n",
       "         [  4.9935,   3.6616,   8.8903,   1.9396],\n",
       "         [ -5.2334,  -3.5674,  -8.6822,  -1.9350],\n",
       "         [  4.9909,   3.6590,   8.8869,   1.9396],\n",
       "         [ -5.2312,  -3.5668,  -8.6816,  -1.9350],\n",
       "         [  0.0624,  -6.4673, -15.1747,  -6.7126],\n",
       "         [ -0.4329,   0.3303, -17.4120,   8.3581],\n",
       "         [ -0.5487,   0.6901,  -0.0928, -18.8736],\n",
       "         [ -0.0836,  -0.1891,  -0.1475,  -0.4252]], device='cuda:0',\n",
       "        requires_grad=True),\n",
       " Parameter containing:\n",
       " tensor([ 2.0444,  4.4256, 18.9045,  7.7368], device='cuda:0',\n",
       "        requires_grad=True)]"
      ]
     },
     "execution_count": 45,
     "metadata": {},
     "output_type": "execute_result"
    }
   ],
   "source": [
    "list(indi.parameters())\n"
   ]
  }
 ],
 "metadata": {
  "kernelspec": {
   "display_name": "torch",
   "language": "python",
   "name": "python3"
  },
  "language_info": {
   "codemirror_mode": {
    "name": "ipython",
    "version": 3
   },
   "file_extension": ".py",
   "mimetype": "text/x-python",
   "name": "python",
   "nbconvert_exporter": "python",
   "pygments_lexer": "ipython3",
   "version": "3.11.0"
  },
  "orig_nbformat": 4
 },
 "nbformat": 4,
 "nbformat_minor": 2
}
